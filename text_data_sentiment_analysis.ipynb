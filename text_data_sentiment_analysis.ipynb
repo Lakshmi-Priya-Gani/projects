{
 "cells": [
  {
   "cell_type": "raw",
   "id": "a12da02b",
   "metadata": {},
   "source": [
    "%%time\n",
    "import zipfile\n",
    "with zipfile.ZipFile('D:/New folder/txt_reviews.zip', 'r') as zip_ref:\n",
    "    zip_ref.extractall('D:/New folder')"
   ]
  },
  {
   "cell_type": "raw",
   "id": "1548ec46",
   "metadata": {},
   "source": [
    "Wall time: 26min 14s"
   ]
  },
  {
   "cell_type": "raw",
   "id": "23974fe2",
   "metadata": {},
   "source": [
    "ProductId: B001E4KFG0\n",
    "UserId: A3SGXH7AUHU8GW\n",
    "ProfileName: delmartian\n",
    "HelpfulnessNumerator: 1\n",
    "HelpfulnessDenominator: 1\n",
    "Score: 5\n",
    "Time: 1303862400\n",
    "ReviewSummary: Good Quality Dog Food\n",
    "ReviewText: I have bought several of the Vitality canned dog food products and have found them all to be of good quality. The product looks more like a stew than a processed meat and it smells better. My Labrador is finicky and she appreciates this product better than  most.\n"
   ]
  },
  {
   "cell_type": "raw",
   "id": "b6a3ce8b",
   "metadata": {},
   "source": [
    "for i in tqdm(range(1,568455)):\n",
    "    first = open(r\"D:\\New folder\\txt_reviews\\review_{}.txt\".format(i), \"r\", errors = 'ignore')as f:\n",
    "        lines = f.readlines()\n",
    "        product_id.append(lines[1].split(':')[1])\n",
    "        user_id.append(lines[2].split(':')[1])\n",
    "        profile_name.append(lines[3].split(':')[1])\n",
    "   "
   ]
  },
  {
   "cell_type": "raw",
   "id": "24a16f87",
   "metadata": {},
   "source": [
    "from tqdm import tqdm\n",
    "product_id = []\n",
    "user_id = []\n",
    "profile_name =[]\n",
    "helpfulness_numerator = []\n",
    "helpfulness_denominator = []\n",
    "score = []\n",
    "time = []\n",
    "review_summary = []\n",
    "review_text = []\n",
    "\n",
    "for i in tqdm(range(1,568455)):\n",
    "    first = open(r\"D:\\New folder\\txt_reviews\\review_{}.txt\".format(i), \"r\", errors = 'ignore')\n",
    "    product_id.append(first.readline().split(':')[1])\n",
    "    user_id.append(first.readline().split(':')[1])\n",
    "    profile_name.append(first.readline().split(':')[1])\n",
    "    helpfulness_numerator.append(first.readline().split(':')[1])\n",
    "    helpfulness_denominator.append(first.readline().split(':')[1])\n",
    "    score.append(first.readline().split(':')[1])\n",
    "    time.append(first.readline().split(':')[1])\n",
    "    review_summary.append(first.readline().split(':')[1])\n",
    "    review_text.append(first.readline().split(':')[1])\n",
    "    "
   ]
  },
  {
   "cell_type": "raw",
   "id": "fc882c7c",
   "metadata": {},
   "source": [
    "data = pd.DataFrame({'product_id'              : product_id,\n",
    "                     'user_id'                 : user_id, \n",
    "                     'profile_name'            : profile_name,\n",
    "                     'helpfulness_numerator '  : helpfulness_numerator, \n",
    "                     'helpfulness_denominator' : helpfulness_denominator,\n",
    "                     'score'                   : score,\n",
    "                     'time'                    : time,\n",
    "                     'review_summary'          : review_summary,\n",
    "                     'review_text'             : review_text        })\n",
    "\n",
    "data.head()"
   ]
  },
  {
   "cell_type": "raw",
   "id": "1c339e8a",
   "metadata": {},
   "source": [
    "data.to_csv('text_data_grproject.csv')"
   ]
  },
  {
   "cell_type": "code",
   "execution_count": 1,
   "id": "bc7ee1c3",
   "metadata": {},
   "outputs": [],
   "source": [
    "import pandas as pd"
   ]
  },
  {
   "cell_type": "code",
   "execution_count": 2,
   "id": "f8f67715",
   "metadata": {},
   "outputs": [],
   "source": [
    "df = pd.read_csv('text_data_grproject.csv')"
   ]
  },
  {
   "cell_type": "code",
   "execution_count": 3,
   "id": "1aac8623",
   "metadata": {},
   "outputs": [],
   "source": [
    "del df['Unnamed: 0']"
   ]
  },
  {
   "cell_type": "code",
   "execution_count": 4,
   "id": "b2594971",
   "metadata": {},
   "outputs": [
    {
     "data": {
      "text/html": [
       "<div>\n",
       "<style scoped>\n",
       "    .dataframe tbody tr th:only-of-type {\n",
       "        vertical-align: middle;\n",
       "    }\n",
       "\n",
       "    .dataframe tbody tr th {\n",
       "        vertical-align: top;\n",
       "    }\n",
       "\n",
       "    .dataframe thead th {\n",
       "        text-align: right;\n",
       "    }\n",
       "</style>\n",
       "<table border=\"1\" class=\"dataframe\">\n",
       "  <thead>\n",
       "    <tr style=\"text-align: right;\">\n",
       "      <th></th>\n",
       "      <th>product_id</th>\n",
       "      <th>user_id</th>\n",
       "      <th>profile_name</th>\n",
       "      <th>helpfulness_numerator</th>\n",
       "      <th>helpfulness_denominator</th>\n",
       "      <th>score</th>\n",
       "      <th>time</th>\n",
       "      <th>review_summary</th>\n",
       "      <th>review_text</th>\n",
       "    </tr>\n",
       "  </thead>\n",
       "  <tbody>\n",
       "    <tr>\n",
       "      <th>0</th>\n",
       "      <td>B001E4KFG0\\n</td>\n",
       "      <td>A3SGXH7AUHU8GW\\n</td>\n",
       "      <td>delmartian\\n</td>\n",
       "      <td>1</td>\n",
       "      <td>1</td>\n",
       "      <td>5</td>\n",
       "      <td>1303862400</td>\n",
       "      <td>Good Quality Dog Food\\n</td>\n",
       "      <td>I have bought several of the Vitality canned ...</td>\n",
       "    </tr>\n",
       "    <tr>\n",
       "      <th>1</th>\n",
       "      <td>B00813GRG4\\n</td>\n",
       "      <td>A1D87F6ZCVE5NK\\n</td>\n",
       "      <td>dll pa\\n</td>\n",
       "      <td>0</td>\n",
       "      <td>0</td>\n",
       "      <td>1</td>\n",
       "      <td>1346976000</td>\n",
       "      <td>Not as Advertised\\n</td>\n",
       "      <td>Product arrived labeled as Jumbo Salted Peanu...</td>\n",
       "    </tr>\n",
       "    <tr>\n",
       "      <th>2</th>\n",
       "      <td>B000LQOCH0\\n</td>\n",
       "      <td>ABXLMWJIXXAIN\\n</td>\n",
       "      <td>Natalia Corres \"Natalia Corres\"\\n</td>\n",
       "      <td>1</td>\n",
       "      <td>1</td>\n",
       "      <td>4</td>\n",
       "      <td>1219017600</td>\n",
       "      <td>\"Delight\" says it all\\n</td>\n",
       "      <td>This is a confection that has been around a f...</td>\n",
       "    </tr>\n",
       "    <tr>\n",
       "      <th>3</th>\n",
       "      <td>B000UA0QIQ\\n</td>\n",
       "      <td>A395BORC6FGVXV\\n</td>\n",
       "      <td>Karl\\n</td>\n",
       "      <td>3</td>\n",
       "      <td>3</td>\n",
       "      <td>2</td>\n",
       "      <td>1307923200</td>\n",
       "      <td>Cough Medicine\\n</td>\n",
       "      <td>If you are looking for the secret ingredient ...</td>\n",
       "    </tr>\n",
       "    <tr>\n",
       "      <th>4</th>\n",
       "      <td>B006K2ZZ7K\\n</td>\n",
       "      <td>A1UQRSCLF8GW1T\\n</td>\n",
       "      <td>Michael D. Bigham \"M. Wassir\"\\n</td>\n",
       "      <td>0</td>\n",
       "      <td>0</td>\n",
       "      <td>5</td>\n",
       "      <td>1350777600</td>\n",
       "      <td>Great taffy\\n</td>\n",
       "      <td>Great taffy at a great price.  There was a wi...</td>\n",
       "    </tr>\n",
       "  </tbody>\n",
       "</table>\n",
       "</div>"
      ],
      "text/plain": [
       "      product_id            user_id                        profile_name  \\\n",
       "0   B001E4KFG0\\n   A3SGXH7AUHU8GW\\n                        delmartian\\n   \n",
       "1   B00813GRG4\\n   A1D87F6ZCVE5NK\\n                            dll pa\\n   \n",
       "2   B000LQOCH0\\n    ABXLMWJIXXAIN\\n   Natalia Corres \"Natalia Corres\"\\n   \n",
       "3   B000UA0QIQ\\n   A395BORC6FGVXV\\n                              Karl\\n   \n",
       "4   B006K2ZZ7K\\n   A1UQRSCLF8GW1T\\n     Michael D. Bigham \"M. Wassir\"\\n   \n",
       "\n",
       "   helpfulness_numerator   helpfulness_denominator  score        time  \\\n",
       "0                       1                        1      5  1303862400   \n",
       "1                       0                        0      1  1346976000   \n",
       "2                       1                        1      4  1219017600   \n",
       "3                       3                        3      2  1307923200   \n",
       "4                       0                        0      5  1350777600   \n",
       "\n",
       "             review_summary                                        review_text  \n",
       "0   Good Quality Dog Food\\n   I have bought several of the Vitality canned ...  \n",
       "1       Not as Advertised\\n   Product arrived labeled as Jumbo Salted Peanu...  \n",
       "2   \"Delight\" says it all\\n   This is a confection that has been around a f...  \n",
       "3          Cough Medicine\\n   If you are looking for the secret ingredient ...  \n",
       "4             Great taffy\\n   Great taffy at a great price.  There was a wi...  "
      ]
     },
     "execution_count": 4,
     "metadata": {},
     "output_type": "execute_result"
    }
   ],
   "source": [
    "df.head()"
   ]
  },
  {
   "cell_type": "raw",
   "id": "91ab1538",
   "metadata": {},
   "source": [
    "time change\n",
    "\\n removal\n",
    "data_type change\n",
    "preprocessing\n",
    "duplicate removal"
   ]
  },
  {
   "cell_type": "code",
   "execution_count": 5,
   "id": "e4539a51",
   "metadata": {},
   "outputs": [],
   "source": [
    "df['product_id'] = df['product_id'].str.replace('\\n','')"
   ]
  },
  {
   "cell_type": "code",
   "execution_count": 6,
   "id": "82593225",
   "metadata": {},
   "outputs": [],
   "source": [
    "df['user_id'] = df['user_id'].str.replace('\\n','')"
   ]
  },
  {
   "cell_type": "code",
   "execution_count": 7,
   "id": "c5813790",
   "metadata": {},
   "outputs": [],
   "source": [
    "df['profile_name'] = df['profile_name'].str.replace('\\n','')"
   ]
  },
  {
   "cell_type": "code",
   "execution_count": 8,
   "id": "4ee8c01f",
   "metadata": {},
   "outputs": [],
   "source": [
    "df['review_summary'] = df['review_summary'].str.replace('\\n','')"
   ]
  },
  {
   "cell_type": "code",
   "execution_count": 9,
   "id": "634e4901",
   "metadata": {},
   "outputs": [],
   "source": [
    "df['review_text'] = df['review_text'].str.replace('\\n','')"
   ]
  },
  {
   "cell_type": "code",
   "execution_count": 10,
   "id": "424eb115",
   "metadata": {},
   "outputs": [],
   "source": [
    "df['profile_name'].replace(regex = True, inplace = True, to_replace = r'[^a-zA-z]',value = r' ')"
   ]
  },
  {
   "cell_type": "code",
   "execution_count": 11,
   "id": "179833f9",
   "metadata": {},
   "outputs": [],
   "source": [
    "df['profile_name'] = df['profile_name'].str.lower()"
   ]
  },
  {
   "cell_type": "code",
   "execution_count": 12,
   "id": "8c6a916d",
   "metadata": {},
   "outputs": [
    {
     "data": {
      "text/plain": [
       "0        2011-04-27\n",
       "1        2012-09-07\n",
       "2        2008-08-18\n",
       "3        2011-06-13\n",
       "4        2012-10-21\n",
       "            ...    \n",
       "568449   2011-03-09\n",
       "568450   2012-03-09\n",
       "568451   2012-02-21\n",
       "568452   2012-03-13\n",
       "568453   2012-05-31\n",
       "Name: time, Length: 568454, dtype: datetime64[ns]"
      ]
     },
     "execution_count": 12,
     "metadata": {},
     "output_type": "execute_result"
    }
   ],
   "source": [
    "pd.to_datetime(df['time'], unit='s')"
   ]
  },
  {
   "cell_type": "code",
   "execution_count": 13,
   "id": "3ee58a77",
   "metadata": {},
   "outputs": [],
   "source": [
    "df['time']=pd.to_datetime(df['time'], unit='s')"
   ]
  },
  {
   "cell_type": "code",
   "execution_count": 14,
   "id": "f18dcbdb",
   "metadata": {},
   "outputs": [
    {
     "data": {
      "text/plain": [
       "product_id                 0\n",
       "user_id                    0\n",
       "profile_name               0\n",
       "helpfulness_numerator      0\n",
       "helpfulness_denominator    0\n",
       "score                      0\n",
       "time                       0\n",
       "review_summary             0\n",
       "review_text                0\n",
       "dtype: int64"
      ]
     },
     "execution_count": 14,
     "metadata": {},
     "output_type": "execute_result"
    }
   ],
   "source": [
    "df.isnull().sum()"
   ]
  },
  {
   "cell_type": "code",
   "execution_count": 15,
   "id": "61c52e55",
   "metadata": {},
   "outputs": [
    {
     "data": {
      "text/plain": [
       "287"
      ]
     },
     "execution_count": 15,
     "metadata": {},
     "output_type": "execute_result"
    }
   ],
   "source": [
    "df.duplicated().sum()"
   ]
  },
  {
   "cell_type": "code",
   "execution_count": 16,
   "id": "d7c31233",
   "metadata": {},
   "outputs": [],
   "source": [
    "df.drop_duplicates(inplace = True)"
   ]
  },
  {
   "cell_type": "code",
   "execution_count": 17,
   "id": "6545af8d",
   "metadata": {},
   "outputs": [
    {
     "data": {
      "text/plain": [
       "5    362930\n",
       "4     80627\n",
       "1     52231\n",
       "3     42614\n",
       "2     29765\n",
       "Name: score, dtype: int64"
      ]
     },
     "execution_count": 17,
     "metadata": {},
     "output_type": "execute_result"
    }
   ],
   "source": [
    "df['score'].value_counts()"
   ]
  },
  {
   "cell_type": "code",
   "execution_count": 18,
   "id": "77819411",
   "metadata": {},
   "outputs": [
    {
     "name": "stdout",
     "output_type": "stream",
     "text": [
      "<class 'pandas.core.frame.DataFrame'>\n",
      "Int64Index: 568167 entries, 0 to 568453\n",
      "Data columns (total 9 columns):\n",
      " #   Column                   Non-Null Count   Dtype         \n",
      "---  ------                   --------------   -----         \n",
      " 0   product_id               568167 non-null  object        \n",
      " 1   user_id                  568167 non-null  object        \n",
      " 2   profile_name             568167 non-null  object        \n",
      " 3   helpfulness_numerator    568167 non-null  int64         \n",
      " 4   helpfulness_denominator  568167 non-null  int64         \n",
      " 5   score                    568167 non-null  int64         \n",
      " 6   time                     568167 non-null  datetime64[ns]\n",
      " 7   review_summary           568167 non-null  object        \n",
      " 8   review_text              568167 non-null  object        \n",
      "dtypes: datetime64[ns](1), int64(3), object(5)\n",
      "memory usage: 43.3+ MB\n"
     ]
    }
   ],
   "source": [
    "df.info()"
   ]
  },
  {
   "cell_type": "code",
   "execution_count": 19,
   "id": "e73ddc3c",
   "metadata": {},
   "outputs": [],
   "source": [
    "df = df.dropna(how='any',axis=0)"
   ]
  },
  {
   "cell_type": "code",
   "execution_count": 20,
   "id": "94efe10d",
   "metadata": {},
   "outputs": [
    {
     "data": {
      "text/plain": [
       "568167"
      ]
     },
     "execution_count": 20,
     "metadata": {},
     "output_type": "execute_result"
    }
   ],
   "source": [
    "len(df)"
   ]
  },
  {
   "cell_type": "code",
   "execution_count": 21,
   "id": "97b4d4da",
   "metadata": {},
   "outputs": [
    {
     "data": {
      "text/plain": [
       "product_id                 0\n",
       "user_id                    0\n",
       "profile_name               0\n",
       "helpfulness_numerator      0\n",
       "helpfulness_denominator    0\n",
       "score                      0\n",
       "time                       0\n",
       "review_summary             0\n",
       "review_text                0\n",
       "dtype: int64"
      ]
     },
     "execution_count": 21,
     "metadata": {},
     "output_type": "execute_result"
    }
   ],
   "source": [
    "df.isnull().sum()"
   ]
  },
  {
   "cell_type": "code",
   "execution_count": null,
   "id": "c059518e",
   "metadata": {},
   "outputs": [],
   "source": []
  },
  {
   "cell_type": "code",
   "execution_count": null,
   "id": "714902aa",
   "metadata": {},
   "outputs": [],
   "source": []
  },
  {
   "cell_type": "code",
   "execution_count": 69,
   "id": "4ab53414",
   "metadata": {},
   "outputs": [
    {
     "name": "stdout",
     "output_type": "stream",
     "text": [
      "The scikit-learn version is 0.24.2.\n"
     ]
    }
   ],
   "source": [
    "print('The scikit-learn version is {}.'.format(sklearn.__version__))"
   ]
  },
  {
   "cell_type": "code",
   "execution_count": null,
   "id": "918cfa8a",
   "metadata": {},
   "outputs": [],
   "source": []
  },
  {
   "cell_type": "code",
   "execution_count": null,
   "id": "4b4979c5",
   "metadata": {},
   "outputs": [],
   "source": []
  },
  {
   "cell_type": "markdown",
   "id": "223f3330",
   "metadata": {},
   "source": [
    "# Splitting the data"
   ]
  },
  {
   "cell_type": "code",
   "execution_count": 22,
   "id": "91d84f02",
   "metadata": {},
   "outputs": [
    {
     "data": {
      "text/html": [
       "<div>\n",
       "<style scoped>\n",
       "    .dataframe tbody tr th:only-of-type {\n",
       "        vertical-align: middle;\n",
       "    }\n",
       "\n",
       "    .dataframe tbody tr th {\n",
       "        vertical-align: top;\n",
       "    }\n",
       "\n",
       "    .dataframe thead th {\n",
       "        text-align: right;\n",
       "    }\n",
       "</style>\n",
       "<table border=\"1\" class=\"dataframe\">\n",
       "  <thead>\n",
       "    <tr style=\"text-align: right;\">\n",
       "      <th></th>\n",
       "      <th>product_id</th>\n",
       "      <th>user_id</th>\n",
       "      <th>profile_name</th>\n",
       "      <th>helpfulness_numerator</th>\n",
       "      <th>helpfulness_denominator</th>\n",
       "      <th>time</th>\n",
       "      <th>review_summary</th>\n",
       "      <th>review_text</th>\n",
       "    </tr>\n",
       "  </thead>\n",
       "  <tbody>\n",
       "    <tr>\n",
       "      <th>40571</th>\n",
       "      <td>B00020HHRW</td>\n",
       "      <td>A1KPQQXV7G8CLK</td>\n",
       "      <td>c  swanson  momof</td>\n",
       "      <td>3</td>\n",
       "      <td>3</td>\n",
       "      <td>2011-07-23</td>\n",
       "      <td>Recommended by herbalist--love it.</td>\n",
       "      <td>We've been drinking this tea for about 2 year...</td>\n",
       "    </tr>\n",
       "    <tr>\n",
       "      <th>459082</th>\n",
       "      <td>B002OFU7W0</td>\n",
       "      <td>A2R1HUYHXV7H18</td>\n",
       "      <td>kristi g   mom of sage</td>\n",
       "      <td>2</td>\n",
       "      <td>2</td>\n",
       "      <td>2009-08-17</td>\n",
       "      <td>Taste like Hot Wings</td>\n",
       "      <td>I can't give these a 5 because the ingredient...</td>\n",
       "    </tr>\n",
       "    <tr>\n",
       "      <th>180167</th>\n",
       "      <td>B007PA34DI</td>\n",
       "      <td>A1GC05P0BYS8KQ</td>\n",
       "      <td>calif reader  buzz</td>\n",
       "      <td>0</td>\n",
       "      <td>0</td>\n",
       "      <td>2012-10-17</td>\n",
       "      <td>good cup of joe</td>\n",
       "      <td>This is a very good coffee. My son and I both...</td>\n",
       "    </tr>\n",
       "    <tr>\n",
       "      <th>138329</th>\n",
       "      <td>B000HDOPYC</td>\n",
       "      <td>A3H8IP3GIN1X10</td>\n",
       "      <td>fabriccolor</td>\n",
       "      <td>1</td>\n",
       "      <td>1</td>\n",
       "      <td>2011-06-08</td>\n",
       "      <td>Loacker Quadratini Lemon Wafer Cookie</td>\n",
       "      <td>This wafer has the best tart and freshest  le...</td>\n",
       "    </tr>\n",
       "    <tr>\n",
       "      <th>111573</th>\n",
       "      <td>B007FRDDB4</td>\n",
       "      <td>A15CACRPPQWJI1</td>\n",
       "      <td>b  wise</td>\n",
       "      <td>0</td>\n",
       "      <td>0</td>\n",
       "      <td>2011-08-20</td>\n",
       "      <td>Great herbal tea</td>\n",
       "      <td>I grew up on lipton black tea, brewed for hou...</td>\n",
       "    </tr>\n",
       "  </tbody>\n",
       "</table>\n",
       "</div>"
      ],
      "text/plain": [
       "         product_id          user_id             profile_name  \\\n",
       "40571    B00020HHRW   A1KPQQXV7G8CLK      c  swanson  momof     \n",
       "459082   B002OFU7W0   A2R1HUYHXV7H18   kristi g   mom of sage   \n",
       "180167   B007PA34DI   A1GC05P0BYS8KQ      calif reader  buzz    \n",
       "138329   B000HDOPYC   A3H8IP3GIN1X10              fabriccolor   \n",
       "111573   B007FRDDB4   A15CACRPPQWJI1                  b  wise   \n",
       "\n",
       "        helpfulness_numerator   helpfulness_denominator       time  \\\n",
       "40571                        3                        3 2011-07-23   \n",
       "459082                       2                        2 2009-08-17   \n",
       "180167                       0                        0 2012-10-17   \n",
       "138329                       1                        1 2011-06-08   \n",
       "111573                       0                        0 2011-08-20   \n",
       "\n",
       "                                review_summary  \\\n",
       "40571       Recommended by herbalist--love it.   \n",
       "459082                    Taste like Hot Wings   \n",
       "180167                         good cup of joe   \n",
       "138329   Loacker Quadratini Lemon Wafer Cookie   \n",
       "111573                        Great herbal tea   \n",
       "\n",
       "                                              review_text  \n",
       "40571    We've been drinking this tea for about 2 year...  \n",
       "459082   I can't give these a 5 because the ingredient...  \n",
       "180167   This is a very good coffee. My son and I both...  \n",
       "138329   This wafer has the best tart and freshest  le...  \n",
       "111573   I grew up on lipton black tea, brewed for hou...  "
      ]
     },
     "execution_count": 22,
     "metadata": {},
     "output_type": "execute_result"
    }
   ],
   "source": [
    "import sklearn\n",
    "\n",
    "\n",
    "X = df.drop('score',axis = 1)\n",
    "\n",
    "y = df['score']\n",
    "\n",
    "from sklearn.model_selection import train_test_split\n",
    "\n",
    "X_train, X_test, y_train, y_test = train_test_split(X, y, train_size=0.75, random_state=100)\n",
    "X_train.head()"
   ]
  },
  {
   "cell_type": "markdown",
   "id": "0a9ac6df",
   "metadata": {},
   "source": [
    "# Text Preprocessing"
   ]
  },
  {
   "cell_type": "code",
   "execution_count": 23,
   "id": "ce1007f4",
   "metadata": {},
   "outputs": [],
   "source": [
    "import re\n",
    "import nltk\n",
    "from nltk.tokenize import word_tokenize\n",
    "from nltk.corpus import stopwords\n",
    "from nltk.stem.porter import PorterStemmer\n",
    "from nltk.stem import WordNetLemmatizer\n",
    "\n",
    "stemmer = PorterStemmer()\n",
    "\n",
    "lemmatizer = WordNetLemmatizer()\n"
   ]
  },
  {
   "cell_type": "code",
   "execution_count": 24,
   "id": "34cdec95",
   "metadata": {},
   "outputs": [],
   "source": [
    "def preprocess(raw_text, flag):\n",
    "    # Removing special characters and digits\n",
    "    sentence = re.sub(\"[^a-zA-Z]\", \" \", raw_text)\n",
    "    \n",
    "    # change sentence to lower case\n",
    "    sentence = sentence.lower()\n",
    "\n",
    "    # tokenize into words\n",
    "    tokens = sentence.split()\n",
    "    \n",
    "    # remove stop words                \n",
    "    clean_tokens = [t for t in tokens if not t in stopwords.words(\"english\")]\n",
    "    \n",
    "    # Stemming/Lemmatization\n",
    "    if(flag == 'stem'):\n",
    "        clean_tokens = [stemmer.stem(word) for word in clean_tokens]\n",
    "    else:\n",
    "        clean_tokens = [lemmatizer.lemmatize(word) for word in clean_tokens]\n",
    "    \n",
    "    return pd.Series([\" \".join(clean_tokens), len(clean_tokens)])"
   ]
  },
  {
   "cell_type": "code",
   "execution_count": 25,
   "id": "76bb1c8a",
   "metadata": {},
   "outputs": [
    {
     "name": "stderr",
     "output_type": "stream",
     "text": [
      "100%|█████████████████████████████████████████████████████████████████████████| 426125/426125 [17:57<00:00, 395.39it/s]\n"
     ]
    },
    {
     "data": {
      "text/html": [
       "<div>\n",
       "<style scoped>\n",
       "    .dataframe tbody tr th:only-of-type {\n",
       "        vertical-align: middle;\n",
       "    }\n",
       "\n",
       "    .dataframe tbody tr th {\n",
       "        vertical-align: top;\n",
       "    }\n",
       "\n",
       "    .dataframe thead th {\n",
       "        text-align: right;\n",
       "    }\n",
       "</style>\n",
       "<table border=\"1\" class=\"dataframe\">\n",
       "  <thead>\n",
       "    <tr style=\"text-align: right;\">\n",
       "      <th></th>\n",
       "      <th>0</th>\n",
       "      <th>1</th>\n",
       "    </tr>\n",
       "  </thead>\n",
       "  <tbody>\n",
       "    <tr>\n",
       "      <th>40571</th>\n",
       "      <td>recommended herbalist love</td>\n",
       "      <td>3</td>\n",
       "    </tr>\n",
       "    <tr>\n",
       "      <th>459082</th>\n",
       "      <td>taste like hot wing</td>\n",
       "      <td>4</td>\n",
       "    </tr>\n",
       "    <tr>\n",
       "      <th>180167</th>\n",
       "      <td>good cup joe</td>\n",
       "      <td>3</td>\n",
       "    </tr>\n",
       "    <tr>\n",
       "      <th>138329</th>\n",
       "      <td>loacker quadratini lemon wafer cookie</td>\n",
       "      <td>5</td>\n",
       "    </tr>\n",
       "    <tr>\n",
       "      <th>111573</th>\n",
       "      <td>great herbal tea</td>\n",
       "      <td>3</td>\n",
       "    </tr>\n",
       "  </tbody>\n",
       "</table>\n",
       "</div>"
      ],
      "text/plain": [
       "                                            0  1\n",
       "40571              recommended herbalist love  3\n",
       "459082                    taste like hot wing  4\n",
       "180167                           good cup joe  3\n",
       "138329  loacker quadratini lemon wafer cookie  5\n",
       "111573                       great herbal tea  3"
      ]
     },
     "execution_count": 25,
     "metadata": {},
     "output_type": "execute_result"
    }
   ],
   "source": [
    "from tqdm import tqdm, tqdm_notebook\n",
    "\n",
    "\n",
    "tqdm.pandas()\n",
    "\n",
    "temp_df = X_train['review_summary'].progress_apply(lambda x: preprocess(x, 'lemma'))\n",
    "\n",
    "temp_df.head()"
   ]
  },
  {
   "cell_type": "code",
   "execution_count": 26,
   "id": "0778e10c",
   "metadata": {},
   "outputs": [
    {
     "data": {
      "text/html": [
       "<div>\n",
       "<style scoped>\n",
       "    .dataframe tbody tr th:only-of-type {\n",
       "        vertical-align: middle;\n",
       "    }\n",
       "\n",
       "    .dataframe tbody tr th {\n",
       "        vertical-align: top;\n",
       "    }\n",
       "\n",
       "    .dataframe thead th {\n",
       "        text-align: right;\n",
       "    }\n",
       "</style>\n",
       "<table border=\"1\" class=\"dataframe\">\n",
       "  <thead>\n",
       "    <tr style=\"text-align: right;\">\n",
       "      <th></th>\n",
       "      <th>clean_review_summary</th>\n",
       "      <th>len_review_summary</th>\n",
       "    </tr>\n",
       "  </thead>\n",
       "  <tbody>\n",
       "    <tr>\n",
       "      <th>40571</th>\n",
       "      <td>recommended herbalist love</td>\n",
       "      <td>3</td>\n",
       "    </tr>\n",
       "    <tr>\n",
       "      <th>459082</th>\n",
       "      <td>taste like hot wing</td>\n",
       "      <td>4</td>\n",
       "    </tr>\n",
       "    <tr>\n",
       "      <th>180167</th>\n",
       "      <td>good cup joe</td>\n",
       "      <td>3</td>\n",
       "    </tr>\n",
       "    <tr>\n",
       "      <th>138329</th>\n",
       "      <td>loacker quadratini lemon wafer cookie</td>\n",
       "      <td>5</td>\n",
       "    </tr>\n",
       "    <tr>\n",
       "      <th>111573</th>\n",
       "      <td>great herbal tea</td>\n",
       "      <td>3</td>\n",
       "    </tr>\n",
       "  </tbody>\n",
       "</table>\n",
       "</div>"
      ],
      "text/plain": [
       "                         clean_review_summary  len_review_summary\n",
       "40571              recommended herbalist love                   3\n",
       "459082                    taste like hot wing                   4\n",
       "180167                           good cup joe                   3\n",
       "138329  loacker quadratini lemon wafer cookie                   5\n",
       "111573                       great herbal tea                   3"
      ]
     },
     "execution_count": 26,
     "metadata": {},
     "output_type": "execute_result"
    }
   ],
   "source": [
    "temp_df.columns = ['clean_review_summary', 'len_review_summary']\n",
    "temp_df.head()"
   ]
  },
  {
   "cell_type": "code",
   "execution_count": 27,
   "id": "e56aced8",
   "metadata": {},
   "outputs": [],
   "source": [
    "X_train = pd.concat([X_train, temp_df['clean_review_summary']], axis=1)"
   ]
  },
  {
   "cell_type": "code",
   "execution_count": 28,
   "id": "8a582f6b",
   "metadata": {},
   "outputs": [
    {
     "name": "stderr",
     "output_type": "stream",
     "text": [
      "100%|████████████████████████████████████████████████████████████████████████| 426125/426125 [7:58:24<00:00, 14.85it/s]\n"
     ]
    },
    {
     "data": {
      "text/html": [
       "<div>\n",
       "<style scoped>\n",
       "    .dataframe tbody tr th:only-of-type {\n",
       "        vertical-align: middle;\n",
       "    }\n",
       "\n",
       "    .dataframe tbody tr th {\n",
       "        vertical-align: top;\n",
       "    }\n",
       "\n",
       "    .dataframe thead th {\n",
       "        text-align: right;\n",
       "    }\n",
       "</style>\n",
       "<table border=\"1\" class=\"dataframe\">\n",
       "  <thead>\n",
       "    <tr style=\"text-align: right;\">\n",
       "      <th></th>\n",
       "      <th>0</th>\n",
       "      <th>1</th>\n",
       "    </tr>\n",
       "  </thead>\n",
       "  <tbody>\n",
       "    <tr>\n",
       "      <th>40571</th>\n",
       "      <td>drinking tea year mild taste much like regular...</td>\n",
       "      <td>54</td>\n",
       "    </tr>\n",
       "    <tr>\n",
       "      <th>459082</th>\n",
       "      <td>give ingredient show processed sure healthy br...</td>\n",
       "      <td>33</td>\n",
       "    </tr>\n",
       "    <tr>\n",
       "      <th>180167</th>\n",
       "      <td>good coffee son enjoy coffee even usually like...</td>\n",
       "      <td>15</td>\n",
       "    </tr>\n",
       "    <tr>\n",
       "      <th>138329</th>\n",
       "      <td>wafer best tart freshest lemon flavor lemon co...</td>\n",
       "      <td>14</td>\n",
       "    </tr>\n",
       "    <tr>\n",
       "      <th>111573</th>\n",
       "      <td>grew lipton black tea brewed hour sugar lemon ...</td>\n",
       "      <td>39</td>\n",
       "    </tr>\n",
       "  </tbody>\n",
       "</table>\n",
       "</div>"
      ],
      "text/plain": [
       "                                                        0   1\n",
       "40571   drinking tea year mild taste much like regular...  54\n",
       "459082  give ingredient show processed sure healthy br...  33\n",
       "180167  good coffee son enjoy coffee even usually like...  15\n",
       "138329  wafer best tart freshest lemon flavor lemon co...  14\n",
       "111573  grew lipton black tea brewed hour sugar lemon ...  39"
      ]
     },
     "execution_count": 28,
     "metadata": {},
     "output_type": "execute_result"
    }
   ],
   "source": [
    "temp_df1 = X_train['review_text'].progress_apply(lambda x: preprocess(x, 'lemma'))\n",
    "\n",
    "temp_df1.head()"
   ]
  },
  {
   "cell_type": "code",
   "execution_count": 29,
   "id": "0e25cf7a",
   "metadata": {},
   "outputs": [],
   "source": [
    "temp_df1.to_csv('temp_df1.csv')"
   ]
  },
  {
   "cell_type": "code",
   "execution_count": 30,
   "id": "6774db21",
   "metadata": {},
   "outputs": [],
   "source": [
    "temp_df1.columns = ['clean_review_text','len_review_text']"
   ]
  },
  {
   "cell_type": "code",
   "execution_count": 31,
   "id": "c449b296",
   "metadata": {},
   "outputs": [
    {
     "name": "stdout",
     "output_type": "stream",
     "text": [
      "<class 'pandas.core.frame.DataFrame'>\n",
      "Int64Index: 426125 entries, 40571 to 56112\n",
      "Data columns (total 2 columns):\n",
      " #   Column             Non-Null Count   Dtype \n",
      "---  ------             --------------   ----- \n",
      " 0   clean_review_text  426125 non-null  object\n",
      " 1   len_review_text    426125 non-null  int64 \n",
      "dtypes: int64(1), object(1)\n",
      "memory usage: 9.8+ MB\n"
     ]
    }
   ],
   "source": [
    "temp_df1.info()"
   ]
  },
  {
   "cell_type": "code",
   "execution_count": 32,
   "id": "c1afeed2",
   "metadata": {},
   "outputs": [],
   "source": [
    "X_train = pd.concat([X_train,temp_df1['clean_review_text']],axis = 1)"
   ]
  },
  {
   "cell_type": "code",
   "execution_count": 33,
   "id": "95cc96ef",
   "metadata": {},
   "outputs": [
    {
     "data": {
      "text/html": [
       "<div>\n",
       "<style scoped>\n",
       "    .dataframe tbody tr th:only-of-type {\n",
       "        vertical-align: middle;\n",
       "    }\n",
       "\n",
       "    .dataframe tbody tr th {\n",
       "        vertical-align: top;\n",
       "    }\n",
       "\n",
       "    .dataframe thead th {\n",
       "        text-align: right;\n",
       "    }\n",
       "</style>\n",
       "<table border=\"1\" class=\"dataframe\">\n",
       "  <thead>\n",
       "    <tr style=\"text-align: right;\">\n",
       "      <th></th>\n",
       "      <th>product_id</th>\n",
       "      <th>user_id</th>\n",
       "      <th>profile_name</th>\n",
       "      <th>helpfulness_numerator</th>\n",
       "      <th>helpfulness_denominator</th>\n",
       "      <th>time</th>\n",
       "      <th>review_summary</th>\n",
       "      <th>review_text</th>\n",
       "      <th>clean_review_summary</th>\n",
       "      <th>clean_review_text</th>\n",
       "    </tr>\n",
       "  </thead>\n",
       "  <tbody>\n",
       "    <tr>\n",
       "      <th>40571</th>\n",
       "      <td>B00020HHRW</td>\n",
       "      <td>A1KPQQXV7G8CLK</td>\n",
       "      <td>c  swanson  momof</td>\n",
       "      <td>3</td>\n",
       "      <td>3</td>\n",
       "      <td>2011-07-23</td>\n",
       "      <td>Recommended by herbalist--love it.</td>\n",
       "      <td>We've been drinking this tea for about 2 year...</td>\n",
       "      <td>recommended herbalist love</td>\n",
       "      <td>drinking tea year mild taste much like regular...</td>\n",
       "    </tr>\n",
       "    <tr>\n",
       "      <th>459082</th>\n",
       "      <td>B002OFU7W0</td>\n",
       "      <td>A2R1HUYHXV7H18</td>\n",
       "      <td>kristi g   mom of sage</td>\n",
       "      <td>2</td>\n",
       "      <td>2</td>\n",
       "      <td>2009-08-17</td>\n",
       "      <td>Taste like Hot Wings</td>\n",
       "      <td>I can't give these a 5 because the ingredient...</td>\n",
       "      <td>taste like hot wing</td>\n",
       "      <td>give ingredient show processed sure healthy br...</td>\n",
       "    </tr>\n",
       "    <tr>\n",
       "      <th>180167</th>\n",
       "      <td>B007PA34DI</td>\n",
       "      <td>A1GC05P0BYS8KQ</td>\n",
       "      <td>calif reader  buzz</td>\n",
       "      <td>0</td>\n",
       "      <td>0</td>\n",
       "      <td>2012-10-17</td>\n",
       "      <td>good cup of joe</td>\n",
       "      <td>This is a very good coffee. My son and I both...</td>\n",
       "      <td>good cup joe</td>\n",
       "      <td>good coffee son enjoy coffee even usually like...</td>\n",
       "    </tr>\n",
       "    <tr>\n",
       "      <th>138329</th>\n",
       "      <td>B000HDOPYC</td>\n",
       "      <td>A3H8IP3GIN1X10</td>\n",
       "      <td>fabriccolor</td>\n",
       "      <td>1</td>\n",
       "      <td>1</td>\n",
       "      <td>2011-06-08</td>\n",
       "      <td>Loacker Quadratini Lemon Wafer Cookie</td>\n",
       "      <td>This wafer has the best tart and freshest  le...</td>\n",
       "      <td>loacker quadratini lemon wafer cookie</td>\n",
       "      <td>wafer best tart freshest lemon flavor lemon co...</td>\n",
       "    </tr>\n",
       "    <tr>\n",
       "      <th>111573</th>\n",
       "      <td>B007FRDDB4</td>\n",
       "      <td>A15CACRPPQWJI1</td>\n",
       "      <td>b  wise</td>\n",
       "      <td>0</td>\n",
       "      <td>0</td>\n",
       "      <td>2011-08-20</td>\n",
       "      <td>Great herbal tea</td>\n",
       "      <td>I grew up on lipton black tea, brewed for hou...</td>\n",
       "      <td>great herbal tea</td>\n",
       "      <td>grew lipton black tea brewed hour sugar lemon ...</td>\n",
       "    </tr>\n",
       "  </tbody>\n",
       "</table>\n",
       "</div>"
      ],
      "text/plain": [
       "         product_id          user_id             profile_name  \\\n",
       "40571    B00020HHRW   A1KPQQXV7G8CLK      c  swanson  momof     \n",
       "459082   B002OFU7W0   A2R1HUYHXV7H18   kristi g   mom of sage   \n",
       "180167   B007PA34DI   A1GC05P0BYS8KQ      calif reader  buzz    \n",
       "138329   B000HDOPYC   A3H8IP3GIN1X10              fabriccolor   \n",
       "111573   B007FRDDB4   A15CACRPPQWJI1                  b  wise   \n",
       "\n",
       "        helpfulness_numerator   helpfulness_denominator       time  \\\n",
       "40571                        3                        3 2011-07-23   \n",
       "459082                       2                        2 2009-08-17   \n",
       "180167                       0                        0 2012-10-17   \n",
       "138329                       1                        1 2011-06-08   \n",
       "111573                       0                        0 2011-08-20   \n",
       "\n",
       "                                review_summary  \\\n",
       "40571       Recommended by herbalist--love it.   \n",
       "459082                    Taste like Hot Wings   \n",
       "180167                         good cup of joe   \n",
       "138329   Loacker Quadratini Lemon Wafer Cookie   \n",
       "111573                        Great herbal tea   \n",
       "\n",
       "                                              review_text  \\\n",
       "40571    We've been drinking this tea for about 2 year...   \n",
       "459082   I can't give these a 5 because the ingredient...   \n",
       "180167   This is a very good coffee. My son and I both...   \n",
       "138329   This wafer has the best tart and freshest  le...   \n",
       "111573   I grew up on lipton black tea, brewed for hou...   \n",
       "\n",
       "                         clean_review_summary  \\\n",
       "40571              recommended herbalist love   \n",
       "459082                    taste like hot wing   \n",
       "180167                           good cup joe   \n",
       "138329  loacker quadratini lemon wafer cookie   \n",
       "111573                       great herbal tea   \n",
       "\n",
       "                                        clean_review_text  \n",
       "40571   drinking tea year mild taste much like regular...  \n",
       "459082  give ingredient show processed sure healthy br...  \n",
       "180167  good coffee son enjoy coffee even usually like...  \n",
       "138329  wafer best tart freshest lemon flavor lemon co...  \n",
       "111573  grew lipton black tea brewed hour sugar lemon ...  "
      ]
     },
     "execution_count": 33,
     "metadata": {},
     "output_type": "execute_result"
    }
   ],
   "source": [
    "X_train.head()"
   ]
  },
  {
   "cell_type": "markdown",
   "id": "a1b494fe",
   "metadata": {},
   "source": [
    "# Test Data\n"
   ]
  },
  {
   "cell_type": "code",
   "execution_count": 34,
   "id": "ea1440ff",
   "metadata": {},
   "outputs": [
    {
     "data": {
      "text/html": [
       "<div>\n",
       "<style scoped>\n",
       "    .dataframe tbody tr th:only-of-type {\n",
       "        vertical-align: middle;\n",
       "    }\n",
       "\n",
       "    .dataframe tbody tr th {\n",
       "        vertical-align: top;\n",
       "    }\n",
       "\n",
       "    .dataframe thead th {\n",
       "        text-align: right;\n",
       "    }\n",
       "</style>\n",
       "<table border=\"1\" class=\"dataframe\">\n",
       "  <thead>\n",
       "    <tr style=\"text-align: right;\">\n",
       "      <th></th>\n",
       "      <th>product_id</th>\n",
       "      <th>user_id</th>\n",
       "      <th>profile_name</th>\n",
       "      <th>helpfulness_numerator</th>\n",
       "      <th>helpfulness_denominator</th>\n",
       "      <th>time</th>\n",
       "      <th>review_summary</th>\n",
       "      <th>review_text</th>\n",
       "    </tr>\n",
       "  </thead>\n",
       "  <tbody>\n",
       "    <tr>\n",
       "      <th>538562</th>\n",
       "      <td>B002RPFBPU</td>\n",
       "      <td>A3RR2P5IS3DGPR</td>\n",
       "      <td>dr  m  a  dixon  hyper observant</td>\n",
       "      <td>1</td>\n",
       "      <td>1</td>\n",
       "      <td>2011-12-07</td>\n",
       "      <td>Delicious crumb cake</td>\n",
       "      <td>Although I have been gluten-free for a long t...</td>\n",
       "    </tr>\n",
       "    <tr>\n",
       "      <th>428501</th>\n",
       "      <td>B002Y2OWII</td>\n",
       "      <td>A14WEZMAYP00LO</td>\n",
       "      <td>t  samuelson</td>\n",
       "      <td>0</td>\n",
       "      <td>0</td>\n",
       "      <td>2011-08-26</td>\n",
       "      <td>Love me some Community Coffee!</td>\n",
       "      <td>This is my favorite coffee out of all coffees...</td>\n",
       "    </tr>\n",
       "    <tr>\n",
       "      <th>25186</th>\n",
       "      <td>B0081XIA1E</td>\n",
       "      <td>A1TQY488XO9D8C</td>\n",
       "      <td>julia luther  julia</td>\n",
       "      <td>0</td>\n",
       "      <td>0</td>\n",
       "      <td>2012-08-04</td>\n",
       "      <td>Not Much of a Puzzle</td>\n",
       "      <td>After the first go-round, my little mutt knew...</td>\n",
       "    </tr>\n",
       "    <tr>\n",
       "      <th>328048</th>\n",
       "      <td>B002ON7JOG</td>\n",
       "      <td>A2SV0Z9WZHGIG8</td>\n",
       "      <td>birdie</td>\n",
       "      <td>0</td>\n",
       "      <td>0</td>\n",
       "      <td>2011-03-10</td>\n",
       "      <td>My favorite cookies!</td>\n",
       "      <td>Love these cookies. Perfect 3 oz size bags at...</td>\n",
       "    </tr>\n",
       "    <tr>\n",
       "      <th>73156</th>\n",
       "      <td>B001QTN58S</td>\n",
       "      <td>A1ZD3YBI92721D</td>\n",
       "      <td>dunnaldur</td>\n",
       "      <td>7</td>\n",
       "      <td>7</td>\n",
       "      <td>2010-04-17</td>\n",
       "      <td>The Original</td>\n",
       "      <td>Just want to share that the first reviewer gi...</td>\n",
       "    </tr>\n",
       "  </tbody>\n",
       "</table>\n",
       "</div>"
      ],
      "text/plain": [
       "         product_id          user_id                        profile_name  \\\n",
       "538562   B002RPFBPU   A3RR2P5IS3DGPR   dr  m  a  dixon  hyper observant    \n",
       "428501   B002Y2OWII   A14WEZMAYP00LO                        t  samuelson   \n",
       "25186    B0081XIA1E   A1TQY488XO9D8C                julia luther  julia    \n",
       "328048   B002ON7JOG   A2SV0Z9WZHGIG8                              birdie   \n",
       "73156    B001QTN58S   A1ZD3YBI92721D                           dunnaldur   \n",
       "\n",
       "        helpfulness_numerator   helpfulness_denominator       time  \\\n",
       "538562                       1                        1 2011-12-07   \n",
       "428501                       0                        0 2011-08-26   \n",
       "25186                        0                        0 2012-08-04   \n",
       "328048                       0                        0 2011-03-10   \n",
       "73156                        7                        7 2010-04-17   \n",
       "\n",
       "                         review_summary  \\\n",
       "538562             Delicious crumb cake   \n",
       "428501   Love me some Community Coffee!   \n",
       "25186              Not Much of a Puzzle   \n",
       "328048             My favorite cookies!   \n",
       "73156                      The Original   \n",
       "\n",
       "                                              review_text  \n",
       "538562   Although I have been gluten-free for a long t...  \n",
       "428501   This is my favorite coffee out of all coffees...  \n",
       "25186    After the first go-round, my little mutt knew...  \n",
       "328048   Love these cookies. Perfect 3 oz size bags at...  \n",
       "73156    Just want to share that the first reviewer gi...  "
      ]
     },
     "execution_count": 34,
     "metadata": {},
     "output_type": "execute_result"
    }
   ],
   "source": [
    "X_test.head()"
   ]
  },
  {
   "cell_type": "code",
   "execution_count": 35,
   "id": "e6eae7f5",
   "metadata": {},
   "outputs": [
    {
     "name": "stderr",
     "output_type": "stream",
     "text": [
      "100%|█████████████████████████████████████████████████████████████████████████| 142042/142042 [05:58<00:00, 395.96it/s]\n"
     ]
    },
    {
     "data": {
      "text/html": [
       "<div>\n",
       "<style scoped>\n",
       "    .dataframe tbody tr th:only-of-type {\n",
       "        vertical-align: middle;\n",
       "    }\n",
       "\n",
       "    .dataframe tbody tr th {\n",
       "        vertical-align: top;\n",
       "    }\n",
       "\n",
       "    .dataframe thead th {\n",
       "        text-align: right;\n",
       "    }\n",
       "</style>\n",
       "<table border=\"1\" class=\"dataframe\">\n",
       "  <thead>\n",
       "    <tr style=\"text-align: right;\">\n",
       "      <th></th>\n",
       "      <th>0</th>\n",
       "      <th>1</th>\n",
       "    </tr>\n",
       "  </thead>\n",
       "  <tbody>\n",
       "    <tr>\n",
       "      <th>538562</th>\n",
       "      <td>delicious crumb cake</td>\n",
       "      <td>3</td>\n",
       "    </tr>\n",
       "    <tr>\n",
       "      <th>428501</th>\n",
       "      <td>love community coffee</td>\n",
       "      <td>3</td>\n",
       "    </tr>\n",
       "    <tr>\n",
       "      <th>25186</th>\n",
       "      <td>much puzzle</td>\n",
       "      <td>2</td>\n",
       "    </tr>\n",
       "    <tr>\n",
       "      <th>328048</th>\n",
       "      <td>favorite cooky</td>\n",
       "      <td>2</td>\n",
       "    </tr>\n",
       "    <tr>\n",
       "      <th>73156</th>\n",
       "      <td>original</td>\n",
       "      <td>1</td>\n",
       "    </tr>\n",
       "  </tbody>\n",
       "</table>\n",
       "</div>"
      ],
      "text/plain": [
       "                            0  1\n",
       "538562   delicious crumb cake  3\n",
       "428501  love community coffee  3\n",
       "25186             much puzzle  2\n",
       "328048         favorite cooky  2\n",
       "73156                original  1"
      ]
     },
     "execution_count": 35,
     "metadata": {},
     "output_type": "execute_result"
    }
   ],
   "source": [
    "temp_df2 = X_test['review_summary'].progress_apply(lambda x: preprocess(x, 'lemma'))\n",
    "\n",
    "temp_df2.head()"
   ]
  },
  {
   "cell_type": "code",
   "execution_count": 36,
   "id": "bff8f4ca",
   "metadata": {},
   "outputs": [
    {
     "data": {
      "text/html": [
       "<div>\n",
       "<style scoped>\n",
       "    .dataframe tbody tr th:only-of-type {\n",
       "        vertical-align: middle;\n",
       "    }\n",
       "\n",
       "    .dataframe tbody tr th {\n",
       "        vertical-align: top;\n",
       "    }\n",
       "\n",
       "    .dataframe thead th {\n",
       "        text-align: right;\n",
       "    }\n",
       "</style>\n",
       "<table border=\"1\" class=\"dataframe\">\n",
       "  <thead>\n",
       "    <tr style=\"text-align: right;\">\n",
       "      <th></th>\n",
       "      <th>clean_review_summary</th>\n",
       "      <th>len_review_summary</th>\n",
       "    </tr>\n",
       "  </thead>\n",
       "  <tbody>\n",
       "    <tr>\n",
       "      <th>538562</th>\n",
       "      <td>delicious crumb cake</td>\n",
       "      <td>3</td>\n",
       "    </tr>\n",
       "    <tr>\n",
       "      <th>428501</th>\n",
       "      <td>love community coffee</td>\n",
       "      <td>3</td>\n",
       "    </tr>\n",
       "    <tr>\n",
       "      <th>25186</th>\n",
       "      <td>much puzzle</td>\n",
       "      <td>2</td>\n",
       "    </tr>\n",
       "    <tr>\n",
       "      <th>328048</th>\n",
       "      <td>favorite cooky</td>\n",
       "      <td>2</td>\n",
       "    </tr>\n",
       "    <tr>\n",
       "      <th>73156</th>\n",
       "      <td>original</td>\n",
       "      <td>1</td>\n",
       "    </tr>\n",
       "  </tbody>\n",
       "</table>\n",
       "</div>"
      ],
      "text/plain": [
       "         clean_review_summary  len_review_summary\n",
       "538562   delicious crumb cake                   3\n",
       "428501  love community coffee                   3\n",
       "25186             much puzzle                   2\n",
       "328048         favorite cooky                   2\n",
       "73156                original                   1"
      ]
     },
     "execution_count": 36,
     "metadata": {},
     "output_type": "execute_result"
    }
   ],
   "source": [
    "temp_df2.columns = ['clean_review_summary', 'len_review_summary']\n",
    "temp_df2.head()"
   ]
  },
  {
   "cell_type": "code",
   "execution_count": 37,
   "id": "96068529",
   "metadata": {},
   "outputs": [],
   "source": [
    "temp_df2.to_csv('temp_df2.csv')"
   ]
  },
  {
   "cell_type": "code",
   "execution_count": 38,
   "id": "4786851f",
   "metadata": {},
   "outputs": [
    {
     "name": "stderr",
     "output_type": "stream",
     "text": [
      "100%|████████████████████████████████████████████████████████████████████████| 142042/142042 [1:10:54<00:00, 33.39it/s]\n"
     ]
    },
    {
     "data": {
      "text/html": [
       "<div>\n",
       "<style scoped>\n",
       "    .dataframe tbody tr th:only-of-type {\n",
       "        vertical-align: middle;\n",
       "    }\n",
       "\n",
       "    .dataframe tbody tr th {\n",
       "        vertical-align: top;\n",
       "    }\n",
       "\n",
       "    .dataframe thead th {\n",
       "        text-align: right;\n",
       "    }\n",
       "</style>\n",
       "<table border=\"1\" class=\"dataframe\">\n",
       "  <thead>\n",
       "    <tr style=\"text-align: right;\">\n",
       "      <th></th>\n",
       "      <th>0</th>\n",
       "      <th>1</th>\n",
       "    </tr>\n",
       "  </thead>\n",
       "  <tbody>\n",
       "    <tr>\n",
       "      <th>538562</th>\n",
       "      <td>although gluten free long time first chestnut ...</td>\n",
       "      <td>85</td>\n",
       "    </tr>\n",
       "    <tr>\n",
       "      <th>428501</th>\n",
       "      <td>favorite coffee coffee german coffee many flav...</td>\n",
       "      <td>30</td>\n",
       "    </tr>\n",
       "    <tr>\n",
       "      <th>25186</th>\n",
       "      <td>first go round little mutt knew exactly get hi...</td>\n",
       "      <td>56</td>\n",
       "    </tr>\n",
       "    <tr>\n",
       "      <th>328048</th>\n",
       "      <td>love cooky perfect oz size bag great price wis...</td>\n",
       "      <td>15</td>\n",
       "    </tr>\n",
       "    <tr>\n",
       "      <th>73156</th>\n",
       "      <td>want share first reviewer giving star calling ...</td>\n",
       "      <td>16</td>\n",
       "    </tr>\n",
       "  </tbody>\n",
       "</table>\n",
       "</div>"
      ],
      "text/plain": [
       "                                                        0   1\n",
       "538562  although gluten free long time first chestnut ...  85\n",
       "428501  favorite coffee coffee german coffee many flav...  30\n",
       "25186   first go round little mutt knew exactly get hi...  56\n",
       "328048  love cooky perfect oz size bag great price wis...  15\n",
       "73156   want share first reviewer giving star calling ...  16"
      ]
     },
     "execution_count": 38,
     "metadata": {},
     "output_type": "execute_result"
    }
   ],
   "source": [
    "temp_df3 = X_test['review_text'].progress_apply(lambda x: preprocess(x, 'lemma'))\n",
    "\n",
    "temp_df3.head()"
   ]
  },
  {
   "cell_type": "code",
   "execution_count": 39,
   "id": "0d87850a",
   "metadata": {},
   "outputs": [],
   "source": [
    "temp_df3.columns = ['clean_review_text','len_review_text']"
   ]
  },
  {
   "cell_type": "code",
   "execution_count": 40,
   "id": "b8f28786",
   "metadata": {},
   "outputs": [],
   "source": [
    "temp_df3.to_csv('temp_df3.csv')"
   ]
  },
  {
   "cell_type": "code",
   "execution_count": 41,
   "id": "c6144a9b",
   "metadata": {},
   "outputs": [
    {
     "data": {
      "text/html": [
       "<div>\n",
       "<style scoped>\n",
       "    .dataframe tbody tr th:only-of-type {\n",
       "        vertical-align: middle;\n",
       "    }\n",
       "\n",
       "    .dataframe tbody tr th {\n",
       "        vertical-align: top;\n",
       "    }\n",
       "\n",
       "    .dataframe thead th {\n",
       "        text-align: right;\n",
       "    }\n",
       "</style>\n",
       "<table border=\"1\" class=\"dataframe\">\n",
       "  <thead>\n",
       "    <tr style=\"text-align: right;\">\n",
       "      <th></th>\n",
       "      <th>product_id</th>\n",
       "      <th>user_id</th>\n",
       "      <th>profile_name</th>\n",
       "      <th>helpfulness_numerator</th>\n",
       "      <th>helpfulness_denominator</th>\n",
       "      <th>time</th>\n",
       "      <th>review_summary</th>\n",
       "      <th>review_text</th>\n",
       "      <th>clean_review_summary</th>\n",
       "      <th>clean_review_text</th>\n",
       "    </tr>\n",
       "  </thead>\n",
       "  <tbody>\n",
       "    <tr>\n",
       "      <th>538562</th>\n",
       "      <td>B002RPFBPU</td>\n",
       "      <td>A3RR2P5IS3DGPR</td>\n",
       "      <td>dr  m  a  dixon  hyper observant</td>\n",
       "      <td>1</td>\n",
       "      <td>1</td>\n",
       "      <td>2011-12-07</td>\n",
       "      <td>Delicious crumb cake</td>\n",
       "      <td>Although I have been gluten-free for a long t...</td>\n",
       "      <td>delicious crumb cake</td>\n",
       "      <td>although gluten free long time first chestnut ...</td>\n",
       "    </tr>\n",
       "    <tr>\n",
       "      <th>428501</th>\n",
       "      <td>B002Y2OWII</td>\n",
       "      <td>A14WEZMAYP00LO</td>\n",
       "      <td>t  samuelson</td>\n",
       "      <td>0</td>\n",
       "      <td>0</td>\n",
       "      <td>2011-08-26</td>\n",
       "      <td>Love me some Community Coffee!</td>\n",
       "      <td>This is my favorite coffee out of all coffees...</td>\n",
       "      <td>love community coffee</td>\n",
       "      <td>favorite coffee coffee german coffee many flav...</td>\n",
       "    </tr>\n",
       "    <tr>\n",
       "      <th>25186</th>\n",
       "      <td>B0081XIA1E</td>\n",
       "      <td>A1TQY488XO9D8C</td>\n",
       "      <td>julia luther  julia</td>\n",
       "      <td>0</td>\n",
       "      <td>0</td>\n",
       "      <td>2012-08-04</td>\n",
       "      <td>Not Much of a Puzzle</td>\n",
       "      <td>After the first go-round, my little mutt knew...</td>\n",
       "      <td>much puzzle</td>\n",
       "      <td>first go round little mutt knew exactly get hi...</td>\n",
       "    </tr>\n",
       "    <tr>\n",
       "      <th>328048</th>\n",
       "      <td>B002ON7JOG</td>\n",
       "      <td>A2SV0Z9WZHGIG8</td>\n",
       "      <td>birdie</td>\n",
       "      <td>0</td>\n",
       "      <td>0</td>\n",
       "      <td>2011-03-10</td>\n",
       "      <td>My favorite cookies!</td>\n",
       "      <td>Love these cookies. Perfect 3 oz size bags at...</td>\n",
       "      <td>favorite cooky</td>\n",
       "      <td>love cooky perfect oz size bag great price wis...</td>\n",
       "    </tr>\n",
       "    <tr>\n",
       "      <th>73156</th>\n",
       "      <td>B001QTN58S</td>\n",
       "      <td>A1ZD3YBI92721D</td>\n",
       "      <td>dunnaldur</td>\n",
       "      <td>7</td>\n",
       "      <td>7</td>\n",
       "      <td>2010-04-17</td>\n",
       "      <td>The Original</td>\n",
       "      <td>Just want to share that the first reviewer gi...</td>\n",
       "      <td>original</td>\n",
       "      <td>want share first reviewer giving star calling ...</td>\n",
       "    </tr>\n",
       "  </tbody>\n",
       "</table>\n",
       "</div>"
      ],
      "text/plain": [
       "         product_id          user_id                        profile_name  \\\n",
       "538562   B002RPFBPU   A3RR2P5IS3DGPR   dr  m  a  dixon  hyper observant    \n",
       "428501   B002Y2OWII   A14WEZMAYP00LO                        t  samuelson   \n",
       "25186    B0081XIA1E   A1TQY488XO9D8C                julia luther  julia    \n",
       "328048   B002ON7JOG   A2SV0Z9WZHGIG8                              birdie   \n",
       "73156    B001QTN58S   A1ZD3YBI92721D                           dunnaldur   \n",
       "\n",
       "        helpfulness_numerator   helpfulness_denominator       time  \\\n",
       "538562                       1                        1 2011-12-07   \n",
       "428501                       0                        0 2011-08-26   \n",
       "25186                        0                        0 2012-08-04   \n",
       "328048                       0                        0 2011-03-10   \n",
       "73156                        7                        7 2010-04-17   \n",
       "\n",
       "                         review_summary  \\\n",
       "538562             Delicious crumb cake   \n",
       "428501   Love me some Community Coffee!   \n",
       "25186              Not Much of a Puzzle   \n",
       "328048             My favorite cookies!   \n",
       "73156                      The Original   \n",
       "\n",
       "                                              review_text  \\\n",
       "538562   Although I have been gluten-free for a long t...   \n",
       "428501   This is my favorite coffee out of all coffees...   \n",
       "25186    After the first go-round, my little mutt knew...   \n",
       "328048   Love these cookies. Perfect 3 oz size bags at...   \n",
       "73156    Just want to share that the first reviewer gi...   \n",
       "\n",
       "         clean_review_summary  \\\n",
       "538562   delicious crumb cake   \n",
       "428501  love community coffee   \n",
       "25186             much puzzle   \n",
       "328048         favorite cooky   \n",
       "73156                original   \n",
       "\n",
       "                                        clean_review_text  \n",
       "538562  although gluten free long time first chestnut ...  \n",
       "428501  favorite coffee coffee german coffee many flav...  \n",
       "25186   first go round little mutt knew exactly get hi...  \n",
       "328048  love cooky perfect oz size bag great price wis...  \n",
       "73156   want share first reviewer giving star calling ...  "
      ]
     },
     "execution_count": 41,
     "metadata": {},
     "output_type": "execute_result"
    }
   ],
   "source": [
    "X_test = pd.concat([X_test,temp_df2['clean_review_summary'],temp_df3['clean_review_text']],axis = 1)\n",
    "X_test.head()"
   ]
  },
  {
   "cell_type": "code",
   "execution_count": 42,
   "id": "17980b11",
   "metadata": {},
   "outputs": [],
   "source": [
    "X_test.drop(['review_summary','review_text'] , axis = 1, inplace = True)"
   ]
  },
  {
   "cell_type": "code",
   "execution_count": 43,
   "id": "ff934c01",
   "metadata": {},
   "outputs": [],
   "source": [
    "X_train.drop(['review_summary','review_text'] , axis = 1, inplace = True)"
   ]
  },
  {
   "cell_type": "code",
   "execution_count": 44,
   "id": "ef25f1a2",
   "metadata": {},
   "outputs": [],
   "source": [
    "X_test.to_csv('clean_test_review.csv')"
   ]
  },
  {
   "cell_type": "code",
   "execution_count": 45,
   "id": "0052f748",
   "metadata": {},
   "outputs": [],
   "source": [
    "X_train.to_csv('clean_train_review.csv')"
   ]
  },
  {
   "cell_type": "markdown",
   "id": "3f468058",
   "metadata": {},
   "source": [
    "# Bag Of Words"
   ]
  },
  {
   "cell_type": "code",
   "execution_count": 46,
   "id": "b429f321",
   "metadata": {},
   "outputs": [
    {
     "name": "stdout",
     "output_type": "stream",
     "text": [
      "Wall time: 30 s\n"
     ]
    }
   ],
   "source": [
    "%%time\n",
    "from sklearn.feature_extraction.text import CountVectorizer\n",
    "\n",
    "vocab = CountVectorizer()\n",
    "\n",
    "X_train_bow = vocab.fit_transform(X_train['clean_review_text'])"
   ]
  },
  {
   "cell_type": "code",
   "execution_count": 47,
   "id": "028a7ed7",
   "metadata": {},
   "outputs": [
    {
     "name": "stdout",
     "output_type": "stream",
     "text": [
      "<class 'scipy.sparse.csr.csr_matrix'>\n",
      "48 Bytes\n"
     ]
    }
   ],
   "source": [
    "from sys import getsizeof\n",
    "\n",
    "print(type(X_train_bow))\n",
    "print(getsizeof(X_train_bow), \"Bytes\")\n"
   ]
  },
  {
   "cell_type": "code",
   "execution_count": null,
   "id": "e5bef6f1",
   "metadata": {},
   "outputs": [],
   "source": []
  },
  {
   "cell_type": "code",
   "execution_count": 48,
   "id": "a67f5e3f",
   "metadata": {},
   "outputs": [],
   "source": [
    "X_test_bow = vocab.transform(X_test['clean_review_text'])\n"
   ]
  },
  {
   "cell_type": "code",
   "execution_count": null,
   "id": "caa8395c",
   "metadata": {},
   "outputs": [],
   "source": []
  },
  {
   "cell_type": "markdown",
   "id": "84ca30a6",
   "metadata": {},
   "source": [
    "# TF_IDF"
   ]
  },
  {
   "cell_type": "code",
   "execution_count": 49,
   "id": "4a9cbe08",
   "metadata": {},
   "outputs": [],
   "source": [
    "from sklearn.feature_extraction.text import TfidfVectorizer"
   ]
  },
  {
   "cell_type": "code",
   "execution_count": 50,
   "id": "1136fba0",
   "metadata": {},
   "outputs": [],
   "source": [
    "vectorizer = TfidfVectorizer()"
   ]
  },
  {
   "cell_type": "code",
   "execution_count": 51,
   "id": "918fc67b",
   "metadata": {},
   "outputs": [
    {
     "name": "stdout",
     "output_type": "stream",
     "text": [
      "Wall time: 27.7 s\n"
     ]
    }
   ],
   "source": [
    "%%time\n",
    "X_train_tfidf = vectorizer.fit_transform(X_train['clean_review_text'])"
   ]
  },
  {
   "cell_type": "code",
   "execution_count": null,
   "id": "3d84de8b",
   "metadata": {},
   "outputs": [],
   "source": []
  },
  {
   "cell_type": "code",
   "execution_count": 52,
   "id": "d7aef8bf",
   "metadata": {},
   "outputs": [],
   "source": [
    "X_test_tfidf = vectorizer.transform(X_test['clean_review_text'])"
   ]
  },
  {
   "cell_type": "code",
   "execution_count": null,
   "id": "022520c0",
   "metadata": {},
   "outputs": [],
   "source": []
  },
  {
   "cell_type": "code",
   "execution_count": null,
   "id": "b9089723",
   "metadata": {},
   "outputs": [],
   "source": []
  },
  {
   "cell_type": "markdown",
   "id": "7b670ff7",
   "metadata": {},
   "source": [
    "# Logistic Regression on BOW"
   ]
  },
  {
   "cell_type": "code",
   "execution_count": 53,
   "id": "a6a4f04f",
   "metadata": {},
   "outputs": [
    {
     "name": "stdout",
     "output_type": "stream",
     "text": [
      "Wall time: 1min 19s\n"
     ]
    },
    {
     "name": "stderr",
     "output_type": "stream",
     "text": [
      "C:\\Users\\ganiv\\anaconda3\\1\\lib\\site-packages\\sklearn\\linear_model\\_logistic.py:763: ConvergenceWarning: lbfgs failed to converge (status=1):\n",
      "STOP: TOTAL NO. of ITERATIONS REACHED LIMIT.\n",
      "\n",
      "Increase the number of iterations (max_iter) or scale the data as shown in:\n",
      "    https://scikit-learn.org/stable/modules/preprocessing.html\n",
      "Please also refer to the documentation for alternative solver options:\n",
      "    https://scikit-learn.org/stable/modules/linear_model.html#logistic-regression\n",
      "  n_iter_i = _check_optimize_result(\n"
     ]
    },
    {
     "data": {
      "text/plain": [
       "LogisticRegression()"
      ]
     },
     "execution_count": 53,
     "metadata": {},
     "output_type": "execute_result"
    }
   ],
   "source": [
    "%%time\n",
    "\n",
    "from sklearn.linear_model import LogisticRegression\n",
    "lr_bow = LogisticRegression()\n",
    "lr_bow.fit(X_train_bow, y_train)"
   ]
  },
  {
   "cell_type": "code",
   "execution_count": 54,
   "id": "643fcc4a",
   "metadata": {},
   "outputs": [
    {
     "name": "stdout",
     "output_type": "stream",
     "text": [
      "Wall time: 277 ms\n"
     ]
    }
   ],
   "source": [
    "%%time\n",
    "\n",
    "y_test_pred = lr_bow.predict(X_test_bow)\n"
   ]
  },
  {
   "cell_type": "code",
   "execution_count": 55,
   "id": "012e9a86",
   "metadata": {},
   "outputs": [
    {
     "name": "stdout",
     "output_type": "stream",
     "text": [
      "0.7355148477210965\n",
      "              precision    recall  f1-score   support\n",
      "\n",
      "           1       0.66      0.65      0.66     13062\n",
      "           2       0.43      0.24      0.31      7507\n",
      "           3       0.46      0.30      0.37     10536\n",
      "           4       0.52      0.25      0.33     20127\n",
      "           5       0.79      0.95      0.86     90810\n",
      "\n",
      "    accuracy                           0.74    142042\n",
      "   macro avg       0.57      0.48      0.51    142042\n",
      "weighted avg       0.70      0.74      0.70    142042\n",
      "\n"
     ]
    }
   ],
   "source": [
    "from sklearn.metrics import accuracy_score, classification_report\n",
    "\n",
    "print(accuracy_score(y_test, y_test_pred))\n",
    "\n",
    "print(classification_report(y_test, y_test_pred))"
   ]
  },
  {
   "cell_type": "markdown",
   "id": "d22c96e6",
   "metadata": {},
   "source": [
    "# Logistic Regression on TF_IDF"
   ]
  },
  {
   "cell_type": "code",
   "execution_count": 56,
   "id": "5e8c8d10",
   "metadata": {},
   "outputs": [
    {
     "name": "stdout",
     "output_type": "stream",
     "text": [
      "Wall time: 1min 15s\n"
     ]
    },
    {
     "name": "stderr",
     "output_type": "stream",
     "text": [
      "C:\\Users\\ganiv\\anaconda3\\1\\lib\\site-packages\\sklearn\\linear_model\\_logistic.py:763: ConvergenceWarning: lbfgs failed to converge (status=1):\n",
      "STOP: TOTAL NO. of ITERATIONS REACHED LIMIT.\n",
      "\n",
      "Increase the number of iterations (max_iter) or scale the data as shown in:\n",
      "    https://scikit-learn.org/stable/modules/preprocessing.html\n",
      "Please also refer to the documentation for alternative solver options:\n",
      "    https://scikit-learn.org/stable/modules/linear_model.html#logistic-regression\n",
      "  n_iter_i = _check_optimize_result(\n"
     ]
    },
    {
     "data": {
      "text/plain": [
       "LogisticRegression()"
      ]
     },
     "execution_count": 56,
     "metadata": {},
     "output_type": "execute_result"
    }
   ],
   "source": [
    "%%time\n",
    "\n",
    "from sklearn.linear_model import LogisticRegression\n",
    "lr_tfidf = LogisticRegression()\n",
    "lr_tfidf.fit(X_train_tfidf, y_train)"
   ]
  },
  {
   "cell_type": "code",
   "execution_count": 57,
   "id": "99ed7805",
   "metadata": {},
   "outputs": [],
   "source": [
    "y_test_pred = lr_tfidf.predict(X_test_tfidf)"
   ]
  },
  {
   "cell_type": "code",
   "execution_count": 58,
   "id": "935b9759",
   "metadata": {},
   "outputs": [
    {
     "name": "stdout",
     "output_type": "stream",
     "text": [
      "0.7334027963560074\n"
     ]
    }
   ],
   "source": [
    "print(accuracy_score(y_test, y_test_pred))"
   ]
  },
  {
   "cell_type": "markdown",
   "id": "23da4155",
   "metadata": {},
   "source": [
    "# Decision Tree on BOW"
   ]
  },
  {
   "cell_type": "code",
   "execution_count": 59,
   "id": "3271d4dc",
   "metadata": {},
   "outputs": [
    {
     "name": "stdout",
     "output_type": "stream",
     "text": [
      "Wall time: 1h 12min 39s\n"
     ]
    },
    {
     "data": {
      "text/plain": [
       "DecisionTreeClassifier()"
      ]
     },
     "execution_count": 59,
     "metadata": {},
     "output_type": "execute_result"
    }
   ],
   "source": [
    "%%time\n",
    "\n",
    "from sklearn.tree import DecisionTreeClassifier\n",
    "dt_bow = DecisionTreeClassifier()\n",
    "dt_bow.fit(X_train_bow, y_train)\n"
   ]
  },
  {
   "cell_type": "code",
   "execution_count": 60,
   "id": "9646978b",
   "metadata": {},
   "outputs": [
    {
     "name": "stdout",
     "output_type": "stream",
     "text": [
      "Wall time: 569 ms\n"
     ]
    }
   ],
   "source": [
    "%%time\n",
    "\n",
    "y_test_pred = dt_bow.predict(X_test_bow)"
   ]
  },
  {
   "cell_type": "code",
   "execution_count": 61,
   "id": "be098775",
   "metadata": {},
   "outputs": [
    {
     "name": "stdout",
     "output_type": "stream",
     "text": [
      "0.7484758029315273\n"
     ]
    }
   ],
   "source": [
    "print(accuracy_score(y_test, y_test_pred))\n"
   ]
  },
  {
   "cell_type": "markdown",
   "id": "f19c2a8f",
   "metadata": {},
   "source": [
    "# Decision Tree on TF_IDF"
   ]
  },
  {
   "cell_type": "code",
   "execution_count": 62,
   "id": "6ba12325",
   "metadata": {},
   "outputs": [
    {
     "name": "stdout",
     "output_type": "stream",
     "text": [
      "Wall time: 1h 21min 39s\n"
     ]
    },
    {
     "data": {
      "text/plain": [
       "DecisionTreeClassifier()"
      ]
     },
     "execution_count": 62,
     "metadata": {},
     "output_type": "execute_result"
    }
   ],
   "source": [
    "%%time\n",
    "\n",
    "from sklearn.tree import DecisionTreeClassifier\n",
    "dt_tfidf = DecisionTreeClassifier()\n",
    "dt_tfidf.fit(X_train_tfidf, y_train)\n"
   ]
  },
  {
   "cell_type": "code",
   "execution_count": 63,
   "id": "73065432",
   "metadata": {},
   "outputs": [
    {
     "name": "stdout",
     "output_type": "stream",
     "text": [
      "Wall time: 768 ms\n"
     ]
    }
   ],
   "source": [
    "%%time\n",
    "\n",
    "y_test_pred = dt_tfidf.predict(X_test_tfidf)"
   ]
  },
  {
   "cell_type": "code",
   "execution_count": 64,
   "id": "d6df3c60",
   "metadata": {},
   "outputs": [
    {
     "name": "stdout",
     "output_type": "stream",
     "text": [
      "0.7404288872305375\n"
     ]
    }
   ],
   "source": [
    "print(accuracy_score(y_test, y_test_pred))"
   ]
  },
  {
   "cell_type": "markdown",
   "id": "d002715e",
   "metadata": {},
   "source": [
    "# KNN"
   ]
  },
  {
   "cell_type": "raw",
   "id": "5f80ec2d",
   "metadata": {},
   "source": [
    "Time taking process"
   ]
  },
  {
   "cell_type": "markdown",
   "id": "3cdb696e",
   "metadata": {},
   "source": [
    "# Random Forest"
   ]
  },
  {
   "cell_type": "raw",
   "id": "bd7fda07",
   "metadata": {},
   "source": [
    "%%time\n",
    "\n",
    "from sklearn.ensemble import RandomForestClassifier\n",
    "classifier = RandomForestClassifier()\n",
    "classifier.fit(X_train_bow, y_train)"
   ]
  },
  {
   "cell_type": "raw",
   "id": "8ee58c6d",
   "metadata": {},
   "source": [
    "%%time\n",
    "\n",
    "y_test_pred = classifier.predict(X_test_bow)"
   ]
  },
  {
   "cell_type": "raw",
   "id": "d0729bef",
   "metadata": {},
   "source": [
    "print(accuracy_score(y_test, y_test_pred))\n"
   ]
  },
  {
   "cell_type": "raw",
   "id": "fff98c5e",
   "metadata": {},
   "source": [
    "Time taking process"
   ]
  },
  {
   "cell_type": "markdown",
   "id": "7a569717",
   "metadata": {},
   "source": [
    "# Saving the models"
   ]
  },
  {
   "cell_type": "code",
   "execution_count": 68,
   "id": "551c518b",
   "metadata": {},
   "outputs": [],
   "source": [
    "from pickle import dump\n",
    "\n",
    "dump(vocab, open('C:/streamlit model deployment/models/bow_vocab.pkl', 'wb'))\n",
    "dump(lr_bow, open('C:/streamlit model deployment/models/lr_bow_model.pkl', 'wb'))\n",
    "dump(lr_tfidf, open('C:/streamlit model deployment/models/lr_tfidf_model.pkl', 'wb'))\n",
    "dump(dt_bow, open('C:/streamlit model deployment/models/dt_bow_model.pkl', 'wb'))\n",
    "dump(dt_tfidf, open('C:/streamlit model deployment/models/dt_tfidf_model.pkl', 'wb'))"
   ]
  },
  {
   "cell_type": "code",
   "execution_count": 73,
   "id": "0e5e23aa",
   "metadata": {},
   "outputs": [],
   "source": [
    "import numpy as np\n",
    "from pickle import load\n",
    "# Loading pretrained classifiers from pickle file\n",
    "\n",
    "vocab = load(open('C:/streamlit model deployment/models/bow_vocab.pkl', 'rb'))\n",
    "lr_bow = load(open('C:/streamlit model deployment/models/lr_bow_model.pkl', 'rb'))\n",
    "lr_tfidf = load(open('C:/streamlit model deployment/models/lr_tfidf_model.pkl', 'rb'))\n",
    "dt_bow = load(open('C:/streamlit model deployment/models/dt_bow_model.pkl', 'rb'))\n",
    "dt_tfidf = load(open('C:/streamlit model deployment/models/dt_tfidf_model.pkl', 'rb'))\n"
   ]
  },
  {
   "cell_type": "code",
   "execution_count": null,
   "id": "e5b6049c",
   "metadata": {},
   "outputs": [],
   "source": []
  },
  {
   "cell_type": "code",
   "execution_count": null,
   "id": "0dfc5afd",
   "metadata": {},
   "outputs": [],
   "source": []
  },
  {
   "cell_type": "code",
   "execution_count": null,
   "id": "2e7d4732",
   "metadata": {},
   "outputs": [],
   "source": []
  },
  {
   "cell_type": "code",
   "execution_count": null,
   "id": "3a38f592",
   "metadata": {},
   "outputs": [],
   "source": []
  },
  {
   "cell_type": "code",
   "execution_count": null,
   "id": "5690bc6e",
   "metadata": {},
   "outputs": [],
   "source": []
  },
  {
   "cell_type": "code",
   "execution_count": null,
   "id": "cba6f470",
   "metadata": {},
   "outputs": [],
   "source": []
  },
  {
   "cell_type": "code",
   "execution_count": null,
   "id": "83ccbc84",
   "metadata": {},
   "outputs": [],
   "source": []
  },
  {
   "cell_type": "markdown",
   "id": "e1031022",
   "metadata": {},
   "source": [
    "# Model Deployment"
   ]
  },
  {
   "cell_type": "code",
   "execution_count": null,
   "id": "35742d71",
   "metadata": {},
   "outputs": [],
   "source": [
    "def preprocess_deployment(raw_text, flag):\n",
    "    # Removing special characters and digits\n",
    "    sentence = re.sub(\"[^a-zA-Z]\", \" \", raw_text)\n",
    "\n",
    "    # change sentence to lower case\n",
    "    sentence = sentence.lower()\n",
    "\n",
    "    # tokenize into words\n",
    "    tokens = sentence.split()\n",
    "\n",
    "    # remove stop words\n",
    "    clean_tokens = [t for t in tokens if not t in stopwords.words(\"english\")]\n",
    "\n",
    "    # Stemming/Lemmatization\n",
    "    if (flag == 'stem'):\n",
    "        clean_tokens = [stemmer.stem(word) for word in clean_tokens]\n",
    "    else:\n",
    "        clean_tokens = [lemmatizer.lemmatize(word) for word in clean_tokens]\n",
    "\n",
    "    return ([\" \".join(clean_tokens)])"
   ]
  },
  {
   "cell_type": "code",
   "execution_count": null,
   "id": "1975066d",
   "metadata": {},
   "outputs": [],
   "source": [
    "input_ = input('enter : ')\n",
    "pre = preprocess_deployment(input_,'lemma')"
   ]
  },
  {
   "cell_type": "code",
   "execution_count": null,
   "id": "829db797",
   "metadata": {},
   "outputs": [],
   "source": [
    "print(pre)"
   ]
  },
  {
   "cell_type": "code",
   "execution_count": null,
   "id": "b052535f",
   "metadata": {},
   "outputs": [],
   "source": [
    "transformed = vocab.transform(pre)"
   ]
  },
  {
   "cell_type": "code",
   "execution_count": null,
   "id": "d7ddf81c",
   "metadata": {},
   "outputs": [],
   "source": [
    "pred = lr_bow.predict(transformed)\n",
    "print(pred)"
   ]
  },
  {
   "cell_type": "code",
   "execution_count": null,
   "id": "bbf426fd",
   "metadata": {},
   "outputs": [],
   "source": []
  },
  {
   "cell_type": "code",
   "execution_count": null,
   "id": "8ac4c77d",
   "metadata": {},
   "outputs": [],
   "source": []
  },
  {
   "cell_type": "code",
   "execution_count": null,
   "id": "ad26e23e",
   "metadata": {},
   "outputs": [],
   "source": []
  },
  {
   "cell_type": "code",
   "execution_count": null,
   "id": "f815ccfe",
   "metadata": {},
   "outputs": [],
   "source": []
  },
  {
   "cell_type": "code",
   "execution_count": null,
   "id": "a3f3d7a9",
   "metadata": {},
   "outputs": [],
   "source": []
  }
 ],
 "metadata": {
  "kernelspec": {
   "display_name": "Python 3 (ipykernel)",
   "language": "python",
   "name": "python3"
  },
  "language_info": {
   "codemirror_mode": {
    "name": "ipython",
    "version": 3
   },
   "file_extension": ".py",
   "mimetype": "text/x-python",
   "name": "python",
   "nbconvert_exporter": "python",
   "pygments_lexer": "ipython3",
   "version": "3.9.7"
  }
 },
 "nbformat": 4,
 "nbformat_minor": 5
}
